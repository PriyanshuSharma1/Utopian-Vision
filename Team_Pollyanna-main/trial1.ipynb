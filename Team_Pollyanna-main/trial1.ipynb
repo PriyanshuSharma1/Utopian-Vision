{
 "cells": [
  {
   "cell_type": "code",
   "execution_count": 1,
   "id": "82ed6134-d1f5-48f9-b177-3f3d966d50a5",
   "metadata": {},
   "outputs": [],
   "source": [
    "import geopandas as gpd"
   ]
  },
  {
   "cell_type": "code",
   "execution_count": 2,
   "id": "fc6f0e37-94f1-4c3a-870f-1cd5874b0dbd",
   "metadata": {},
   "outputs": [],
   "source": [
    "buildings = gpd.read_file(r\"SampleShapeFile/shape/buildings.shp\")"
   ]
  },
  {
   "cell_type": "code",
   "execution_count": 3,
   "id": "940fa7a1-aae0-4e0b-8b0a-cc724682ca50",
   "metadata": {},
   "outputs": [],
   "source": [
    "roads = gpd.read_file(r\"SampleShapeFile/shape/roads.shp\")\n"
   ]
  },
  {
   "cell_type": "code",
   "execution_count": null,
   "id": "9b15bbe5-814e-4a87-93ec-54fe3ed5827c",
   "metadata": {},
   "outputs": [],
   "source": [
    "roads.crs"
   ]
  },
  {
   "cell_type": "code",
   "execution_count": 6,
   "id": "e5726c1f-7929-42f9-8ed2-e22dbbdca82d",
   "metadata": {},
   "outputs": [],
   "source": [
    "points = gpd.read_file(r\"SampleShapeFile/shape/places.shp\")"
   ]
  },
  {
   "cell_type": "code",
   "execution_count": null,
   "id": "dc2fd467-bde7-4436-8883-851f83b68d46",
   "metadata": {},
   "outputs": [],
   "source": [
    "points.crs"
   ]
  },
  {
   "cell_type": "code",
   "execution_count": null,
   "id": "90a8897f-5a1c-4359-ad81-1cfb149624e0",
   "metadata": {},
   "outputs": [],
   "source": [
    "# hospitals= gpd.GeoDataFrame(points.loc[[0]])\n",
    "# j=0\n",
    "# for i in range(len(points)):\n",
    "#     if points.loc[i].type == 'hospital':\n",
    "#         j=j+1\n",
    "#         hospitals.loc[j] = points.loc[i]\n",
    "\n",
    "# hospitals"
   ]
  },
  {
   "cell_type": "code",
   "execution_count": 24,
   "id": "a4ce14a5-4787-4247-b04b-54d378d74aeb",
   "metadata": {},
   "outputs": [],
   "source": [
    "# hospitals=points[points.type=='city']"
   ]
  },
  {
   "cell_type": "code",
   "execution_count": 25,
   "id": "c6a6e10a-2e93-4455-a26d-0276e4936b57",
   "metadata": {},
   "outputs": [
    {
     "data": {
      "text/html": [
       "<div>\n",
       "<style scoped>\n",
       "    .dataframe tbody tr th:only-of-type {\n",
       "        vertical-align: middle;\n",
       "    }\n",
       "\n",
       "    .dataframe tbody tr th {\n",
       "        vertical-align: top;\n",
       "    }\n",
       "\n",
       "    .dataframe thead th {\n",
       "        text-align: right;\n",
       "    }\n",
       "</style>\n",
       "<table border=\"1\" class=\"dataframe\">\n",
       "  <thead>\n",
       "    <tr style=\"text-align: right;\">\n",
       "      <th></th>\n",
       "      <th>osm_id</th>\n",
       "      <th>name</th>\n",
       "      <th>type</th>\n",
       "      <th>population</th>\n",
       "      <th>geometry</th>\n",
       "    </tr>\n",
       "  </thead>\n",
       "  <tbody>\n",
       "  </tbody>\n",
       "</table>\n",
       "</div>"
      ],
      "text/plain": [
       "Empty GeoDataFrame\n",
       "Columns: [osm_id, name, type, population, geometry]\n",
       "Index: []"
      ]
     },
     "execution_count": 25,
     "metadata": {},
     "output_type": "execute_result"
    }
   ],
   "source": [
    "# hospitals"
   ]
  },
  {
   "cell_type": "code",
   "execution_count": null,
   "id": "eadc32c2-099d-4111-bd39-5fed94908d6a",
   "metadata": {},
   "outputs": [],
   "source": []
  }
 ],
 "metadata": {
  "kernelspec": {
   "display_name": "Python 3 (ipykernel)",
   "language": "python",
   "name": "python3"
  },
  "language_info": {
   "codemirror_mode": {
    "name": "ipython",
    "version": 3
   },
   "file_extension": ".py",
   "mimetype": "text/x-python",
   "name": "python",
   "nbconvert_exporter": "python",
   "pygments_lexer": "ipython3",
   "version": "3.9.12"
  }
 },
 "nbformat": 4,
 "nbformat_minor": 5
}
